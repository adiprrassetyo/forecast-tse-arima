{
 "cells": [
  {
   "attachments": {},
   "cell_type": "markdown",
   "metadata": {},
   "source": [
    "# PERBANDINGAN METODE TRIPLE EXPONENTIAL SMOOTHING DAN AUTOREGRESSIVE INTEGRATED MOVING AVERAGE (ARIMA) PADA PERAMALAN HARGA CRYPTOCURRENCY (STUDI KASUS: LIMA KOIN KRIPTO TERATAS)\n",
    "\n",
    "1. Set-Up\n",
    "2. EDA\n",
    "3. Data Preprocessing\n",
    "4. Tuning\n",
    "5. Modelling\n",
    "6. Evaluation\n"
   ]
  },
  {
   "cell_type": "markdown",
   "metadata": {},
   "source": [
    "# Set-Up"
   ]
  },
  {
   "cell_type": "markdown",
   "metadata": {},
   "source": [
    "## Import Library"
   ]
  },
  {
   "cell_type": "code",
   "execution_count": 2,
   "metadata": {},
   "outputs": [],
   "source": [
    "# data manipulation\n",
    "import numpy as np\n",
    "import pandas as pd\n",
    "import matplotlib.pyplot as plt\n",
    "\n",
    "# data preprocessing\n",
    "from sklearn.preprocessing import (\n",
    "    LabelEncoder, \n",
    "    OrdinalEncoder,\n",
    "    OneHotEncoder,\n",
    "    MinMaxScaler,\n",
    "    StandardScaler,\n",
    ")\n",
    "\n",
    "# train test split\n",
    "from pmdarima.model_selection import train_test_split\n",
    "\n",
    "# metrics evaluation\n",
    "from sklearn.metrics import mean_squared_error, mean_absolute_percentage_error, classification_report,confusion_matrix, accuracy_score\n",
    "\n",
    "# model\n",
    "from statsmodels.tsa.seasonal import seasonal_decompose\n",
    "from statsmodels.tsa.arima.model import ARIMA\n",
    "from statsmodels.tsa.holtwinters import ExponentialSmoothing\n",
    "from statsmodels.tsa.stattools import adfuller\n",
    "from statsmodels.graphics.tsaplots import plot_acf, plot_pacf"
   ]
  },
  {
   "cell_type": "markdown",
   "metadata": {},
   "source": [
    "## Import Data"
   ]
  },
  {
   "cell_type": "code",
   "execution_count": 3,
   "metadata": {},
   "outputs": [],
   "source": [
    "data_btc = pd.read_csv(\"/home/user/forecast-tse-arima/dataset/BTC-USD.csv\")\n",
    "data_eth = pd.read_csv(\"/home/user/forecast-tse-arima/dataset/ETH-USD.csv\")\n",
    "data_bnb = pd.read_csv(\"/home/user/forecast-tse-arima/dataset/BNB-USD.csv\")\n",
    "data_sol = pd.read_csv(\"/home/user/forecast-tse-arima/dataset/SOL-USD.csv\")\n",
    "data_xrp = pd.read_csv(\"/home/user/forecast-tse-arima/dataset/XRP-USD.csv\")"
   ]
  },
  {
   "cell_type": "markdown",
   "metadata": {},
   "source": [
    "# EDA"
   ]
  },
  {
   "cell_type": "code",
   "execution_count": 4,
   "metadata": {},
   "outputs": [
    {
     "data": {
      "text/html": [
       "<div>\n",
       "<style scoped>\n",
       "    .dataframe tbody tr th:only-of-type {\n",
       "        vertical-align: middle;\n",
       "    }\n",
       "\n",
       "    .dataframe tbody tr th {\n",
       "        vertical-align: top;\n",
       "    }\n",
       "\n",
       "    .dataframe thead th {\n",
       "        text-align: right;\n",
       "    }\n",
       "</style>\n",
       "<table border=\"1\" class=\"dataframe\">\n",
       "  <thead>\n",
       "    <tr style=\"text-align: right;\">\n",
       "      <th></th>\n",
       "      <th>Date</th>\n",
       "      <th>Open</th>\n",
       "      <th>High</th>\n",
       "      <th>Low</th>\n",
       "      <th>Close</th>\n",
       "      <th>Adj Close</th>\n",
       "      <th>Volume</th>\n",
       "    </tr>\n",
       "  </thead>\n",
       "  <tbody>\n",
       "    <tr>\n",
       "      <th>0</th>\n",
       "      <td>2021-01-01</td>\n",
       "      <td>28994.009766</td>\n",
       "      <td>29600.626953</td>\n",
       "      <td>28803.585938</td>\n",
       "      <td>29374.152344</td>\n",
       "      <td>29374.152344</td>\n",
       "      <td>40730301359</td>\n",
       "    </tr>\n",
       "    <tr>\n",
       "      <th>1</th>\n",
       "      <td>2021-01-02</td>\n",
       "      <td>29376.455078</td>\n",
       "      <td>33155.117188</td>\n",
       "      <td>29091.181641</td>\n",
       "      <td>32127.267578</td>\n",
       "      <td>32127.267578</td>\n",
       "      <td>67865420765</td>\n",
       "    </tr>\n",
       "    <tr>\n",
       "      <th>2</th>\n",
       "      <td>2021-01-03</td>\n",
       "      <td>32129.408203</td>\n",
       "      <td>34608.558594</td>\n",
       "      <td>32052.316406</td>\n",
       "      <td>32782.023438</td>\n",
       "      <td>32782.023438</td>\n",
       "      <td>78665235202</td>\n",
       "    </tr>\n",
       "    <tr>\n",
       "      <th>3</th>\n",
       "      <td>2021-01-04</td>\n",
       "      <td>32810.949219</td>\n",
       "      <td>33440.218750</td>\n",
       "      <td>28722.755859</td>\n",
       "      <td>31971.914063</td>\n",
       "      <td>31971.914063</td>\n",
       "      <td>81163475344</td>\n",
       "    </tr>\n",
       "    <tr>\n",
       "      <th>4</th>\n",
       "      <td>2021-01-05</td>\n",
       "      <td>31977.041016</td>\n",
       "      <td>34437.589844</td>\n",
       "      <td>30221.187500</td>\n",
       "      <td>33992.429688</td>\n",
       "      <td>33992.429688</td>\n",
       "      <td>67547324782</td>\n",
       "    </tr>\n",
       "    <tr>\n",
       "      <th>...</th>\n",
       "      <td>...</td>\n",
       "      <td>...</td>\n",
       "      <td>...</td>\n",
       "      <td>...</td>\n",
       "      <td>...</td>\n",
       "      <td>...</td>\n",
       "      <td>...</td>\n",
       "    </tr>\n",
       "    <tr>\n",
       "      <th>1090</th>\n",
       "      <td>2023-12-27</td>\n",
       "      <td>42518.468750</td>\n",
       "      <td>43683.160156</td>\n",
       "      <td>42167.582031</td>\n",
       "      <td>43442.855469</td>\n",
       "      <td>43442.855469</td>\n",
       "      <td>25260941032</td>\n",
       "    </tr>\n",
       "    <tr>\n",
       "      <th>1091</th>\n",
       "      <td>2023-12-28</td>\n",
       "      <td>43468.199219</td>\n",
       "      <td>43804.781250</td>\n",
       "      <td>42318.550781</td>\n",
       "      <td>42627.855469</td>\n",
       "      <td>42627.855469</td>\n",
       "      <td>22992093014</td>\n",
       "    </tr>\n",
       "    <tr>\n",
       "      <th>1092</th>\n",
       "      <td>2023-12-29</td>\n",
       "      <td>42614.644531</td>\n",
       "      <td>43124.324219</td>\n",
       "      <td>41424.062500</td>\n",
       "      <td>42099.402344</td>\n",
       "      <td>42099.402344</td>\n",
       "      <td>26000021055</td>\n",
       "    </tr>\n",
       "    <tr>\n",
       "      <th>1093</th>\n",
       "      <td>2023-12-30</td>\n",
       "      <td>42091.753906</td>\n",
       "      <td>42584.125000</td>\n",
       "      <td>41556.226563</td>\n",
       "      <td>42156.902344</td>\n",
       "      <td>42156.902344</td>\n",
       "      <td>16013925945</td>\n",
       "    </tr>\n",
       "    <tr>\n",
       "      <th>1094</th>\n",
       "      <td>2023-12-31</td>\n",
       "      <td>42152.097656</td>\n",
       "      <td>42860.937500</td>\n",
       "      <td>41998.253906</td>\n",
       "      <td>42265.187500</td>\n",
       "      <td>42265.187500</td>\n",
       "      <td>16397498810</td>\n",
       "    </tr>\n",
       "  </tbody>\n",
       "</table>\n",
       "<p>1095 rows × 7 columns</p>\n",
       "</div>"
      ],
      "text/plain": [
       "            Date          Open          High           Low         Close  \\\n",
       "0     2021-01-01  28994.009766  29600.626953  28803.585938  29374.152344   \n",
       "1     2021-01-02  29376.455078  33155.117188  29091.181641  32127.267578   \n",
       "2     2021-01-03  32129.408203  34608.558594  32052.316406  32782.023438   \n",
       "3     2021-01-04  32810.949219  33440.218750  28722.755859  31971.914063   \n",
       "4     2021-01-05  31977.041016  34437.589844  30221.187500  33992.429688   \n",
       "...          ...           ...           ...           ...           ...   \n",
       "1090  2023-12-27  42518.468750  43683.160156  42167.582031  43442.855469   \n",
       "1091  2023-12-28  43468.199219  43804.781250  42318.550781  42627.855469   \n",
       "1092  2023-12-29  42614.644531  43124.324219  41424.062500  42099.402344   \n",
       "1093  2023-12-30  42091.753906  42584.125000  41556.226563  42156.902344   \n",
       "1094  2023-12-31  42152.097656  42860.937500  41998.253906  42265.187500   \n",
       "\n",
       "         Adj Close       Volume  \n",
       "0     29374.152344  40730301359  \n",
       "1     32127.267578  67865420765  \n",
       "2     32782.023438  78665235202  \n",
       "3     31971.914063  81163475344  \n",
       "4     33992.429688  67547324782  \n",
       "...            ...          ...  \n",
       "1090  43442.855469  25260941032  \n",
       "1091  42627.855469  22992093014  \n",
       "1092  42099.402344  26000021055  \n",
       "1093  42156.902344  16013925945  \n",
       "1094  42265.187500  16397498810  \n",
       "\n",
       "[1095 rows x 7 columns]"
      ]
     },
     "execution_count": 4,
     "metadata": {},
     "output_type": "execute_result"
    }
   ],
   "source": [
    "data_btc"
   ]
  },
  {
   "cell_type": "code",
   "execution_count": 5,
   "metadata": {},
   "outputs": [
    {
     "data": {
      "text/plain": [
       "Date         0\n",
       "Open         0\n",
       "High         0\n",
       "Low          0\n",
       "Close        0\n",
       "Adj Close    0\n",
       "Volume       0\n",
       "dtype: int64"
      ]
     },
     "execution_count": 5,
     "metadata": {},
     "output_type": "execute_result"
    }
   ],
   "source": [
    "data_btc.isnull().sum()"
   ]
  },
  {
   "cell_type": "code",
   "execution_count": 6,
   "metadata": {},
   "outputs": [
    {
     "name": "stdout",
     "output_type": "stream",
     "text": [
      "Data memiliki 1095 baris dan 7 kolom\n",
      "Data setelah dihapus duplikat memiliki: 1095 baris dan 7 kolom\n"
     ]
    }
   ],
   "source": [
    "print(f\"Data memiliki {data_btc.shape[0]} baris dan {data_btc.shape[1]} kolom\")\n",
    "drop = data_btc.drop_duplicates()\n",
    "print(f\"Data setelah dihapus duplikat memiliki: {drop.shape[0]} baris dan {drop.shape[1]} kolom\")"
   ]
  },
  {
   "cell_type": "code",
   "execution_count": 7,
   "metadata": {},
   "outputs": [
    {
     "data": {
      "text/html": [
       "<div>\n",
       "<style scoped>\n",
       "    .dataframe tbody tr th:only-of-type {\n",
       "        vertical-align: middle;\n",
       "    }\n",
       "\n",
       "    .dataframe tbody tr th {\n",
       "        vertical-align: top;\n",
       "    }\n",
       "\n",
       "    .dataframe thead th {\n",
       "        text-align: right;\n",
       "    }\n",
       "</style>\n",
       "<table border=\"1\" class=\"dataframe\">\n",
       "  <thead>\n",
       "    <tr style=\"text-align: right;\">\n",
       "      <th></th>\n",
       "      <th>count</th>\n",
       "      <th>mean</th>\n",
       "      <th>std</th>\n",
       "      <th>min</th>\n",
       "      <th>25%</th>\n",
       "      <th>50%</th>\n",
       "      <th>75%</th>\n",
       "      <th>max</th>\n",
       "    </tr>\n",
       "  </thead>\n",
       "  <tbody>\n",
       "    <tr>\n",
       "      <th>Open</th>\n",
       "      <td>1095.0</td>\n",
       "      <td>3.482320e+04</td>\n",
       "      <td>1.256097e+04</td>\n",
       "      <td>1.578230e+04</td>\n",
       "      <td>2.470548e+04</td>\n",
       "      <td>3.213887e+04</td>\n",
       "      <td>4.353272e+04</td>\n",
       "      <td>6.754973e+04</td>\n",
       "    </tr>\n",
       "    <tr>\n",
       "      <th>High</th>\n",
       "      <td>1095.0</td>\n",
       "      <td>3.561568e+04</td>\n",
       "      <td>1.292156e+04</td>\n",
       "      <td>1.625305e+04</td>\n",
       "      <td>2.521547e+04</td>\n",
       "      <td>3.332710e+04</td>\n",
       "      <td>4.418802e+04</td>\n",
       "      <td>6.878962e+04</td>\n",
       "    </tr>\n",
       "    <tr>\n",
       "      <th>Low</th>\n",
       "      <td>1095.0</td>\n",
       "      <td>3.395326e+04</td>\n",
       "      <td>1.213239e+04</td>\n",
       "      <td>1.559905e+04</td>\n",
       "      <td>2.427638e+04</td>\n",
       "      <td>3.103027e+04</td>\n",
       "      <td>4.256395e+04</td>\n",
       "      <td>6.638206e+04</td>\n",
       "    </tr>\n",
       "    <tr>\n",
       "      <th>Close</th>\n",
       "      <td>1095.0</td>\n",
       "      <td>3.483138e+04</td>\n",
       "      <td>1.255608e+04</td>\n",
       "      <td>1.578728e+04</td>\n",
       "      <td>2.469368e+04</td>\n",
       "      <td>3.218628e+04</td>\n",
       "      <td>4.355131e+04</td>\n",
       "      <td>6.756683e+04</td>\n",
       "    </tr>\n",
       "    <tr>\n",
       "      <th>Adj Close</th>\n",
       "      <td>1095.0</td>\n",
       "      <td>3.483138e+04</td>\n",
       "      <td>1.255608e+04</td>\n",
       "      <td>1.578728e+04</td>\n",
       "      <td>2.469368e+04</td>\n",
       "      <td>3.218628e+04</td>\n",
       "      <td>4.355131e+04</td>\n",
       "      <td>6.756683e+04</td>\n",
       "    </tr>\n",
       "    <tr>\n",
       "      <th>Volume</th>\n",
       "      <td>1095.0</td>\n",
       "      <td>3.180665e+10</td>\n",
       "      <td>2.053404e+10</td>\n",
       "      <td>5.331173e+09</td>\n",
       "      <td>1.863833e+10</td>\n",
       "      <td>2.783388e+10</td>\n",
       "      <td>3.851887e+10</td>\n",
       "      <td>3.509679e+11</td>\n",
       "    </tr>\n",
       "  </tbody>\n",
       "</table>\n",
       "</div>"
      ],
      "text/plain": [
       "            count          mean           std           min           25%  \\\n",
       "Open       1095.0  3.482320e+04  1.256097e+04  1.578230e+04  2.470548e+04   \n",
       "High       1095.0  3.561568e+04  1.292156e+04  1.625305e+04  2.521547e+04   \n",
       "Low        1095.0  3.395326e+04  1.213239e+04  1.559905e+04  2.427638e+04   \n",
       "Close      1095.0  3.483138e+04  1.255608e+04  1.578728e+04  2.469368e+04   \n",
       "Adj Close  1095.0  3.483138e+04  1.255608e+04  1.578728e+04  2.469368e+04   \n",
       "Volume     1095.0  3.180665e+10  2.053404e+10  5.331173e+09  1.863833e+10   \n",
       "\n",
       "                    50%           75%           max  \n",
       "Open       3.213887e+04  4.353272e+04  6.754973e+04  \n",
       "High       3.332710e+04  4.418802e+04  6.878962e+04  \n",
       "Low        3.103027e+04  4.256395e+04  6.638206e+04  \n",
       "Close      3.218628e+04  4.355131e+04  6.756683e+04  \n",
       "Adj Close  3.218628e+04  4.355131e+04  6.756683e+04  \n",
       "Volume     2.783388e+10  3.851887e+10  3.509679e+11  "
      ]
     },
     "execution_count": 7,
     "metadata": {},
     "output_type": "execute_result"
    }
   ],
   "source": [
    "data_btc.describe().T"
   ]
  },
  {
   "cell_type": "code",
   "execution_count": 8,
   "metadata": {},
   "outputs": [
    {
     "name": "stdout",
     "output_type": "stream",
     "text": [
      "<class 'pandas.core.frame.DataFrame'>\n",
      "RangeIndex: 1095 entries, 0 to 1094\n",
      "Data columns (total 7 columns):\n",
      " #   Column     Non-Null Count  Dtype  \n",
      "---  ------     --------------  -----  \n",
      " 0   Date       1095 non-null   object \n",
      " 1   Open       1095 non-null   float64\n",
      " 2   High       1095 non-null   float64\n",
      " 3   Low        1095 non-null   float64\n",
      " 4   Close      1095 non-null   float64\n",
      " 5   Adj Close  1095 non-null   float64\n",
      " 6   Volume     1095 non-null   int64  \n",
      "dtypes: float64(5), int64(1), object(1)\n",
      "memory usage: 60.0+ KB\n"
     ]
    }
   ],
   "source": [
    "data_btc.info()"
   ]
  },
  {
   "cell_type": "code",
   "execution_count": 9,
   "metadata": {},
   "outputs": [
    {
     "data": {
      "image/png": "[encoded data removed]",
      "text/plain": [
       "<Figure size 640x480 with 1 Axes>"
      ]
     },
     "metadata": {},
     "output_type": "display_data"
    }
   ],
   "source": [
    "plt.plot(data_btc['Close'])\n",
    "plt.xlabel('Date')\n",
    "plt.ylabel('Close Price')\n",
    "plt.title('Visualisasi Data BTC - Close Price')\n",
    "plt.show()\n"
   ]
  },
  {
   "cell_type": "markdown",
   "metadata": {},
   "source": [
    "# Data Preprocessing"
   ]
  },
  {
   "cell_type": "code",
   "execution_count": 10,
   "metadata": {},
   "outputs": [],
   "source": [
    "data_btc['Date'] = pd.to_datetime(data_btc['Date'], format='%Y-%m-%d')\n"
   ]
  },
  {
   "cell_type": "code",
   "execution_count": 11,
   "metadata": {},
   "outputs": [],
   "source": [
    "data_btc['year'] = data_btc['Date'].dt.year\n",
    "data_btc['month'] = data_btc['Date'].dt.month\n",
    "data_btc['day'] = data_btc['Date'].dt.day"
   ]
  },
  {
   "cell_type": "code",
   "execution_count": 20,
   "metadata": {},
   "outputs": [],
   "source": [
    "# data btc close\n",
    "df_btc_close_year = data_btc[['year', 'Close']]"
   ]
  },
  {
   "cell_type": "code",
   "execution_count": 25,
   "metadata": {},
   "outputs": [
    {
     "name": "stderr",
     "output_type": "stream",
     "text": [
      "/tmp/ipykernel_16189/586279662.py:2: FutureWarning: 'Y' is deprecated and will be removed in a future version, please use 'YE' instead.\n",
      "  df_year = data_btc.resample('Y').mean()\n"
     ]
    },
    {
     "ename": "TypeError",
     "evalue": "Only valid with DatetimeIndex, TimedeltaIndex or PeriodIndex, but got an instance of 'RangeIndex'",
     "output_type": "error",
     "traceback": [
      "\u001b[0;31m---------------------------------------------------------------------------\u001b[0m",
      "\u001b[0;31mTypeError\u001b[0m                                 Traceback (most recent call last)",
      "\u001b[1;32m/home/user/forecast-tse-arima/main.ipynb Cell 18\u001b[0m line \u001b[0;36m2\n\u001b[1;32m      <a href='vscode-notebook-cell://idx-forecast-tse-arima-1716980092116.cluster-7ubberrabzh4qqy2g4z7wgxuw2.cloudworkstations.dev/home/user/forecast-tse-arima/main.ipynb#X22sdnNjb2RlLXJlbW90ZQ%3D%3D?line=0'>1</a>\u001b[0m \u001b[39m#resamply by years\u001b[39;00m\n\u001b[0;32m----> <a href='vscode-notebook-cell://idx-forecast-tse-arima-1716980092116.cluster-7ubberrabzh4qqy2g4z7wgxuw2.cloudworkstations.dev/home/user/forecast-tse-arima/main.ipynb#X22sdnNjb2RlLXJlbW90ZQ%3D%3D?line=1'>2</a>\u001b[0m df_year \u001b[39m=\u001b[39m data_btc\u001b[39m.\u001b[39;49mresample(\u001b[39m'\u001b[39;49m\u001b[39mY\u001b[39;49m\u001b[39m'\u001b[39;49m)\u001b[39m.\u001b[39mmean()\n",
      "File \u001b[0;32m~/forecast-tse-arima/.venv/lib/python3.11/site-packages/pandas/core/generic.py:9771\u001b[0m, in \u001b[0;36mNDFrame.resample\u001b[0;34m(self, rule, axis, closed, label, convention, kind, on, level, origin, offset, group_keys)\u001b[0m\n\u001b[1;32m   9768\u001b[0m \u001b[39melse\u001b[39;00m:\n\u001b[1;32m   9769\u001b[0m     convention \u001b[39m=\u001b[39m \u001b[39m\"\u001b[39m\u001b[39mstart\u001b[39m\u001b[39m\"\u001b[39m\n\u001b[0;32m-> 9771\u001b[0m \u001b[39mreturn\u001b[39;00m get_resampler(\n\u001b[1;32m   9772\u001b[0m     cast(\u001b[39m\"\u001b[39;49m\u001b[39mSeries | DataFrame\u001b[39;49m\u001b[39m\"\u001b[39;49m, \u001b[39mself\u001b[39;49m),\n\u001b[1;32m   9773\u001b[0m     freq\u001b[39m=\u001b[39;49mrule,\n\u001b[1;32m   9774\u001b[0m     label\u001b[39m=\u001b[39;49mlabel,\n\u001b[1;32m   9775\u001b[0m     closed\u001b[39m=\u001b[39;49mclosed,\n\u001b[1;32m   9776\u001b[0m     axis\u001b[39m=\u001b[39;49maxis,\n\u001b[1;32m   9777\u001b[0m     kind\u001b[39m=\u001b[39;49mkind,\n\u001b[1;32m   9778\u001b[0m     convention\u001b[39m=\u001b[39;49mconvention,\n\u001b[1;32m   9779\u001b[0m     key\u001b[39m=\u001b[39;49mon,\n\u001b[1;32m   9780\u001b[0m     level\u001b[39m=\u001b[39;49mlevel,\n\u001b[1;32m   9781\u001b[0m     origin\u001b[39m=\u001b[39;49morigin,\n\u001b[1;32m   9782\u001b[0m     offset\u001b[39m=\u001b[39;49moffset,\n\u001b[1;32m   9783\u001b[0m     group_keys\u001b[39m=\u001b[39;49mgroup_keys,\n\u001b[1;32m   9784\u001b[0m )\n",
      "File \u001b[0;32m~/forecast-tse-arima/.venv/lib/python3.11/site-packages/pandas/core/resample.py:2050\u001b[0m, in \u001b[0;36mget_resampler\u001b[0;34m(obj, kind, **kwds)\u001b[0m\n\u001b[1;32m   2046\u001b[0m \u001b[39m\u001b[39m\u001b[39m\"\"\"\u001b[39;00m\n\u001b[1;32m   2047\u001b[0m \u001b[39mCreate a TimeGrouper and return our resampler.\u001b[39;00m\n\u001b[1;32m   2048\u001b[0m \u001b[39m\"\"\"\u001b[39;00m\n\u001b[1;32m   2049\u001b[0m tg \u001b[39m=\u001b[39m TimeGrouper(obj, \u001b[39m*\u001b[39m\u001b[39m*\u001b[39mkwds)  \u001b[39m# type: ignore[arg-type]\u001b[39;00m\n\u001b[0;32m-> 2050\u001b[0m \u001b[39mreturn\u001b[39;00m tg\u001b[39m.\u001b[39;49m_get_resampler(obj, kind\u001b[39m=\u001b[39;49mkind)\n",
      "File \u001b[0;32m~/forecast-tse-arima/.venv/lib/python3.11/site-packages/pandas/core/resample.py:2272\u001b[0m, in \u001b[0;36mTimeGrouper._get_resampler\u001b[0;34m(self, obj, kind)\u001b[0m\n\u001b[1;32m   2263\u001b[0m \u001b[39melif\u001b[39;00m \u001b[39misinstance\u001b[39m(ax, TimedeltaIndex):\n\u001b[1;32m   2264\u001b[0m     \u001b[39mreturn\u001b[39;00m TimedeltaIndexResampler(\n\u001b[1;32m   2265\u001b[0m         obj,\n\u001b[1;32m   2266\u001b[0m         timegrouper\u001b[39m=\u001b[39m\u001b[39mself\u001b[39m,\n\u001b[0;32m   (...)\u001b[0m\n\u001b[1;32m   2269\u001b[0m         gpr_index\u001b[39m=\u001b[39max,\n\u001b[1;32m   2270\u001b[0m     )\n\u001b[0;32m-> 2272\u001b[0m \u001b[39mraise\u001b[39;00m \u001b[39mTypeError\u001b[39;00m(\n\u001b[1;32m   2273\u001b[0m     \u001b[39m\"\u001b[39m\u001b[39mOnly valid with DatetimeIndex, \u001b[39m\u001b[39m\"\u001b[39m\n\u001b[1;32m   2274\u001b[0m     \u001b[39m\"\u001b[39m\u001b[39mTimedeltaIndex or PeriodIndex, \u001b[39m\u001b[39m\"\u001b[39m\n\u001b[1;32m   2275\u001b[0m     \u001b[39mf\u001b[39m\u001b[39m\"\u001b[39m\u001b[39mbut got an instance of \u001b[39m\u001b[39m'\u001b[39m\u001b[39m{\u001b[39;00m\u001b[39mtype\u001b[39m(ax)\u001b[39m.\u001b[39m\u001b[39m__name__\u001b[39m\u001b[39m}\u001b[39;00m\u001b[39m'\u001b[39m\u001b[39m\"\u001b[39m\n\u001b[1;32m   2276\u001b[0m )\n",
      "\u001b[0;31mTypeError\u001b[0m: Only valid with DatetimeIndex, TimedeltaIndex or PeriodIndex, but got an instance of 'RangeIndex'"
     ]
    }
   ],
   "source": [
    "#resamply by years\n",
    "df_year = data_btc.resample('Y').mean()"
   ]
  },
  {
   "cell_type": "markdown",
   "metadata": {},
   "source": [
    "# Tuning"
   ]
  },
  {
   "cell_type": "markdown",
   "metadata": {},
   "source": [
    "# Modelling"
   ]
  },
  {
   "cell_type": "markdown",
   "metadata": {},
   "source": [
    "## Triple Exponential Smoothing"
   ]
  },
  {
   "cell_type": "markdown",
   "metadata": {},
   "source": [
    "## ARIMA"
   ]
  },
  {
   "cell_type": "markdown",
   "metadata": {},
   "source": [
    "# Evaluation"
   ]
  },
  {
   "cell_type": "markdown",
   "metadata": {},
   "source": []
  }
 ],
 "metadata": {
  "kernelspec": {
   "display_name": "out",
   "language": "python",
   "name": "python3"
  },
  "language_info": {
   "codemirror_mode": {
    "name": "ipython",
    "version": 3
   },
   "file_extension": ".py",
   "mimetype": "text/x-python",
   "name": "python",
   "nbconvert_exporter": "python",
   "pygments_lexer": "ipython3",
   "version": "3.11.8"
  },
  "orig_nbformat": 4
 },
 "nbformat": 4,
 "nbformat_minor": 2
}
